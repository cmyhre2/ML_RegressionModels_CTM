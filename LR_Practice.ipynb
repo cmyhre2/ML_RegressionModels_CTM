{
  "nbformat": 4,
  "nbformat_minor": 0,
  "metadata": {
    "colab": {
      "provenance": [],
      "include_colab_link": true
    },
    "kernelspec": {
      "name": "python3",
      "display_name": "Python 3"
    },
    "language_info": {
      "name": "python"
    }
  },
  "cells": [
    {
      "cell_type": "markdown",
      "metadata": {
        "id": "view-in-github",
        "colab_type": "text"
      },
      "source": [
        "<a href=\"https://colab.research.google.com/github/cmyhre2/ML_RegressionModels_CTM/blob/main/LR_Practice.ipynb\" target=\"_parent\"><img src=\"https://colab.research.google.com/assets/colab-badge.svg\" alt=\"Open In Colab\"/></a>"
      ]
    },
    {
      "cell_type": "markdown",
      "source": [
        "# In-Class Assignment: Exploring Regression Techniques\n",
        "Objective:\n",
        "The goal of this assignment is to apply five regression techniques—Multiple Linear Regression (MLR), Stochastic Gradient Descent (SGD), Ridge Regression, Lasso Regression, and Polynomial Regression—on a from Kaggle. You will compare the performance of these models and interpret the results.\n",
        "https://www.kaggle.com/datasets/CooperUnion/cardataset"
      ],
      "metadata": {
        "id": "Ua_16Vu3glHM"
      }
    },
    {
      "cell_type": "markdown",
      "source": [
        "### Import necessary libraries"
      ],
      "metadata": {
        "id": "9nN9uT8Pf1wU"
      }
    },
    {
      "cell_type": "code",
      "source": [
        "from google.colab import drive\n",
        "drive.mount('/content/drive')"
      ],
      "metadata": {
        "colab": {
          "base_uri": "https://localhost:8080/"
        },
        "id": "1wR7iVPybkyj",
        "outputId": "58a8603d-af27-4816-9d74-988206f639fc"
      },
      "execution_count": null,
      "outputs": [
        {
          "output_type": "stream",
          "name": "stdout",
          "text": [
            "Mounted at /content/drive\n"
          ]
        }
      ]
    },
    {
      "cell_type": "code",
      "execution_count": null,
      "metadata": {
        "id": "TacEdFxneFry"
      },
      "outputs": [],
      "source": [
        "import pandas as pd\n",
        "import numpy as np\n",
        "import matplotlib.pyplot as plt\n",
        "import seaborn as sns"
      ]
    },
    {
      "cell_type": "code",
      "source": [
        "# Load a dataset\n",
        "data=pd.read_csv('/content/drive/MyDrive/CS430/data.csv')"
      ],
      "metadata": {
        "id": "SHgjNAzueK2M"
      },
      "execution_count": null,
      "outputs": []
    },
    {
      "cell_type": "code",
      "source": [
        "# Check data\n",
        "data.info()"
      ],
      "metadata": {
        "id": "6kuRvtg4ftOt",
        "colab": {
          "base_uri": "https://localhost:8080/"
        },
        "outputId": "cf0cecd2-2d43-4a4a-8c3d-565e82af42b9"
      },
      "execution_count": null,
      "outputs": [
        {
          "output_type": "stream",
          "name": "stdout",
          "text": [
            "<class 'pandas.core.frame.DataFrame'>\n",
            "RangeIndex: 11914 entries, 0 to 11913\n",
            "Data columns (total 16 columns):\n",
            " #   Column             Non-Null Count  Dtype  \n",
            "---  ------             --------------  -----  \n",
            " 0   Make               11914 non-null  object \n",
            " 1   Model              11914 non-null  object \n",
            " 2   Year               11914 non-null  int64  \n",
            " 3   Engine Fuel Type   11911 non-null  object \n",
            " 4   Engine HP          11845 non-null  float64\n",
            " 5   Engine Cylinders   11884 non-null  float64\n",
            " 6   Transmission Type  11914 non-null  object \n",
            " 7   Driven_Wheels      11914 non-null  object \n",
            " 8   Number of Doors    11908 non-null  float64\n",
            " 9   Market Category    8172 non-null   object \n",
            " 10  Vehicle Size       11914 non-null  object \n",
            " 11  Vehicle Style      11914 non-null  object \n",
            " 12  highway MPG        11914 non-null  int64  \n",
            " 13  city mpg           11914 non-null  int64  \n",
            " 14  Popularity         11914 non-null  int64  \n",
            " 15  MSRP               11914 non-null  int64  \n",
            "dtypes: float64(3), int64(5), object(8)\n",
            "memory usage: 1.5+ MB\n"
          ]
        }
      ]
    },
    {
      "cell_type": "markdown",
      "source": [
        "## What are the basic properties of the dataset\n",
        "\n",
        "- What is the shape of the dataset (number of rows and columns)?\n",
        "- What are the column names, and what do they represent?\n",
        "- What is the data type of each column?"
      ],
      "metadata": {
        "id": "QcYd3a_khqCM"
      }
    },
    {
      "cell_type": "code",
      "source": [
        "print('Data Shape:',data.shape)\n",
        "# what are the column names and data types?\n",
        "print(data.dtypes)"
      ],
      "metadata": {
        "id": "pHkghhBrh-Vk",
        "colab": {
          "base_uri": "https://localhost:8080/"
        },
        "outputId": "d09b2c63-bfa6-45ba-c09b-79e7d343ca9d"
      },
      "execution_count": null,
      "outputs": [
        {
          "output_type": "stream",
          "name": "stdout",
          "text": [
            "Data Shape: (11914, 16)\n",
            "Make                  object\n",
            "Model                 object\n",
            "Year                   int64\n",
            "Engine Fuel Type      object\n",
            "Engine HP            float64\n",
            "Engine Cylinders     float64\n",
            "Transmission Type     object\n",
            "Driven_Wheels         object\n",
            "Number of Doors      float64\n",
            "Market Category       object\n",
            "Vehicle Size          object\n",
            "Vehicle Style         object\n",
            "highway MPG            int64\n",
            "city mpg               int64\n",
            "Popularity             int64\n",
            "MSRP                   int64\n",
            "dtype: object\n"
          ]
        }
      ]
    },
    {
      "cell_type": "markdown",
      "source": [
        "### Missing Data\n",
        "- Are there any missing values in the dataset?\n",
        "- Which columns have missing values, and how many?"
      ],
      "metadata": {
        "id": "WRw2Lwxwh-nU"
      }
    },
    {
      "cell_type": "code",
      "source": [
        "data.info()"
      ],
      "metadata": {
        "id": "WqS_5F2YiNPr",
        "colab": {
          "base_uri": "https://localhost:8080/"
        },
        "outputId": "d5da6122-b1f1-478b-e82d-f738230f3279"
      },
      "execution_count": null,
      "outputs": [
        {
          "output_type": "stream",
          "name": "stdout",
          "text": [
            "<class 'pandas.core.frame.DataFrame'>\n",
            "RangeIndex: 11914 entries, 0 to 11913\n",
            "Data columns (total 16 columns):\n",
            " #   Column             Non-Null Count  Dtype  \n",
            "---  ------             --------------  -----  \n",
            " 0   Make               11914 non-null  object \n",
            " 1   Model              11914 non-null  object \n",
            " 2   Year               11914 non-null  int64  \n",
            " 3   Engine Fuel Type   11911 non-null  object \n",
            " 4   Engine HP          11845 non-null  float64\n",
            " 5   Engine Cylinders   11884 non-null  float64\n",
            " 6   Transmission Type  11914 non-null  object \n",
            " 7   Driven_Wheels      11914 non-null  object \n",
            " 8   Number of Doors    11908 non-null  float64\n",
            " 9   Market Category    8172 non-null   object \n",
            " 10  Vehicle Size       11914 non-null  object \n",
            " 11  Vehicle Style      11914 non-null  object \n",
            " 12  highway MPG        11914 non-null  int64  \n",
            " 13  city mpg           11914 non-null  int64  \n",
            " 14  Popularity         11914 non-null  int64  \n",
            " 15  MSRP               11914 non-null  int64  \n",
            "dtypes: float64(3), int64(5), object(8)\n",
            "memory usage: 1.5+ MB\n"
          ]
        }
      ]
    },
    {
      "cell_type": "markdown",
      "source": [
        "### Missing Data:\n",
        "After checking the column info of the data, it appears some data is missing in some columns. My approach to solving this problem is to simply remove missing values after I get all the outliers and duplicate values first."
      ],
      "metadata": {
        "id": "3beSqtEp7SV3"
      }
    },
    {
      "cell_type": "markdown",
      "source": [
        "### Descriptive Statistics:\n",
        "- What are the summary statistics of the numerical columns?\n",
        "- What are the mean, median, min, max, and standard deviation of the numerical columns?"
      ],
      "metadata": {
        "id": "OvdlPeXMiNa8"
      }
    },
    {
      "cell_type": "code",
      "source": [
        "# Summarize the data\n",
        "data.describe()"
      ],
      "metadata": {
        "id": "H36RkDXgibaE",
        "colab": {
          "base_uri": "https://localhost:8080/",
          "height": 320
        },
        "outputId": "f6f81564-3c89-400b-95e0-4cc2f043b49e"
      },
      "execution_count": null,
      "outputs": [
        {
          "output_type": "execute_result",
          "data": {
            "text/plain": [
              "               Year    Engine HP  Engine Cylinders  Number of Doors  \\\n",
              "count  11914.000000  11845.00000      11884.000000     11908.000000   \n",
              "mean    2010.384338    249.38607          5.628829         3.436093   \n",
              "std        7.579740    109.19187          1.780559         0.881315   \n",
              "min     1990.000000     55.00000          0.000000         2.000000   \n",
              "25%     2007.000000    170.00000          4.000000         2.000000   \n",
              "50%     2015.000000    227.00000          6.000000         4.000000   \n",
              "75%     2016.000000    300.00000          6.000000         4.000000   \n",
              "max     2017.000000   1001.00000         16.000000         4.000000   \n",
              "\n",
              "        highway MPG      city mpg    Popularity          MSRP  \n",
              "count  11914.000000  11914.000000  11914.000000  1.191400e+04  \n",
              "mean      26.637485     19.733255   1554.911197  4.059474e+04  \n",
              "std        8.863001      8.987798   1441.855347  6.010910e+04  \n",
              "min       12.000000      7.000000      2.000000  2.000000e+03  \n",
              "25%       22.000000     16.000000    549.000000  2.100000e+04  \n",
              "50%       26.000000     18.000000   1385.000000  2.999500e+04  \n",
              "75%       30.000000     22.000000   2009.000000  4.223125e+04  \n",
              "max      354.000000    137.000000   5657.000000  2.065902e+06  "
            ],
            "text/html": [
              "\n",
              "  <div id=\"df-919520d4-24af-48b3-9fb2-d8f6d36659d0\" class=\"colab-df-container\">\n",
              "    <div>\n",
              "<style scoped>\n",
              "    .dataframe tbody tr th:only-of-type {\n",
              "        vertical-align: middle;\n",
              "    }\n",
              "\n",
              "    .dataframe tbody tr th {\n",
              "        vertical-align: top;\n",
              "    }\n",
              "\n",
              "    .dataframe thead th {\n",
              "        text-align: right;\n",
              "    }\n",
              "</style>\n",
              "<table border=\"1\" class=\"dataframe\">\n",
              "  <thead>\n",
              "    <tr style=\"text-align: right;\">\n",
              "      <th></th>\n",
              "      <th>Year</th>\n",
              "      <th>Engine HP</th>\n",
              "      <th>Engine Cylinders</th>\n",
              "      <th>Number of Doors</th>\n",
              "      <th>highway MPG</th>\n",
              "      <th>city mpg</th>\n",
              "      <th>Popularity</th>\n",
              "      <th>MSRP</th>\n",
              "    </tr>\n",
              "  </thead>\n",
              "  <tbody>\n",
              "    <tr>\n",
              "      <th>count</th>\n",
              "      <td>11914.000000</td>\n",
              "      <td>11845.00000</td>\n",
              "      <td>11884.000000</td>\n",
              "      <td>11908.000000</td>\n",
              "      <td>11914.000000</td>\n",
              "      <td>11914.000000</td>\n",
              "      <td>11914.000000</td>\n",
              "      <td>1.191400e+04</td>\n",
              "    </tr>\n",
              "    <tr>\n",
              "      <th>mean</th>\n",
              "      <td>2010.384338</td>\n",
              "      <td>249.38607</td>\n",
              "      <td>5.628829</td>\n",
              "      <td>3.436093</td>\n",
              "      <td>26.637485</td>\n",
              "      <td>19.733255</td>\n",
              "      <td>1554.911197</td>\n",
              "      <td>4.059474e+04</td>\n",
              "    </tr>\n",
              "    <tr>\n",
              "      <th>std</th>\n",
              "      <td>7.579740</td>\n",
              "      <td>109.19187</td>\n",
              "      <td>1.780559</td>\n",
              "      <td>0.881315</td>\n",
              "      <td>8.863001</td>\n",
              "      <td>8.987798</td>\n",
              "      <td>1441.855347</td>\n",
              "      <td>6.010910e+04</td>\n",
              "    </tr>\n",
              "    <tr>\n",
              "      <th>min</th>\n",
              "      <td>1990.000000</td>\n",
              "      <td>55.00000</td>\n",
              "      <td>0.000000</td>\n",
              "      <td>2.000000</td>\n",
              "      <td>12.000000</td>\n",
              "      <td>7.000000</td>\n",
              "      <td>2.000000</td>\n",
              "      <td>2.000000e+03</td>\n",
              "    </tr>\n",
              "    <tr>\n",
              "      <th>25%</th>\n",
              "      <td>2007.000000</td>\n",
              "      <td>170.00000</td>\n",
              "      <td>4.000000</td>\n",
              "      <td>2.000000</td>\n",
              "      <td>22.000000</td>\n",
              "      <td>16.000000</td>\n",
              "      <td>549.000000</td>\n",
              "      <td>2.100000e+04</td>\n",
              "    </tr>\n",
              "    <tr>\n",
              "      <th>50%</th>\n",
              "      <td>2015.000000</td>\n",
              "      <td>227.00000</td>\n",
              "      <td>6.000000</td>\n",
              "      <td>4.000000</td>\n",
              "      <td>26.000000</td>\n",
              "      <td>18.000000</td>\n",
              "      <td>1385.000000</td>\n",
              "      <td>2.999500e+04</td>\n",
              "    </tr>\n",
              "    <tr>\n",
              "      <th>75%</th>\n",
              "      <td>2016.000000</td>\n",
              "      <td>300.00000</td>\n",
              "      <td>6.000000</td>\n",
              "      <td>4.000000</td>\n",
              "      <td>30.000000</td>\n",
              "      <td>22.000000</td>\n",
              "      <td>2009.000000</td>\n",
              "      <td>4.223125e+04</td>\n",
              "    </tr>\n",
              "    <tr>\n",
              "      <th>max</th>\n",
              "      <td>2017.000000</td>\n",
              "      <td>1001.00000</td>\n",
              "      <td>16.000000</td>\n",
              "      <td>4.000000</td>\n",
              "      <td>354.000000</td>\n",
              "      <td>137.000000</td>\n",
              "      <td>5657.000000</td>\n",
              "      <td>2.065902e+06</td>\n",
              "    </tr>\n",
              "  </tbody>\n",
              "</table>\n",
              "</div>\n",
              "    <div class=\"colab-df-buttons\">\n",
              "\n",
              "  <div class=\"colab-df-container\">\n",
              "    <button class=\"colab-df-convert\" onclick=\"convertToInteractive('df-919520d4-24af-48b3-9fb2-d8f6d36659d0')\"\n",
              "            title=\"Convert this dataframe to an interactive table.\"\n",
              "            style=\"display:none;\">\n",
              "\n",
              "  <svg xmlns=\"http://www.w3.org/2000/svg\" height=\"24px\" viewBox=\"0 -960 960 960\">\n",
              "    <path d=\"M120-120v-720h720v720H120Zm60-500h600v-160H180v160Zm220 220h160v-160H400v160Zm0 220h160v-160H400v160ZM180-400h160v-160H180v160Zm440 0h160v-160H620v160ZM180-180h160v-160H180v160Zm440 0h160v-160H620v160Z\"/>\n",
              "  </svg>\n",
              "    </button>\n",
              "\n",
              "  <style>\n",
              "    .colab-df-container {\n",
              "      display:flex;\n",
              "      gap: 12px;\n",
              "    }\n",
              "\n",
              "    .colab-df-convert {\n",
              "      background-color: #E8F0FE;\n",
              "      border: none;\n",
              "      border-radius: 50%;\n",
              "      cursor: pointer;\n",
              "      display: none;\n",
              "      fill: #1967D2;\n",
              "      height: 32px;\n",
              "      padding: 0 0 0 0;\n",
              "      width: 32px;\n",
              "    }\n",
              "\n",
              "    .colab-df-convert:hover {\n",
              "      background-color: #E2EBFA;\n",
              "      box-shadow: 0px 1px 2px rgba(60, 64, 67, 0.3), 0px 1px 3px 1px rgba(60, 64, 67, 0.15);\n",
              "      fill: #174EA6;\n",
              "    }\n",
              "\n",
              "    .colab-df-buttons div {\n",
              "      margin-bottom: 4px;\n",
              "    }\n",
              "\n",
              "    [theme=dark] .colab-df-convert {\n",
              "      background-color: #3B4455;\n",
              "      fill: #D2E3FC;\n",
              "    }\n",
              "\n",
              "    [theme=dark] .colab-df-convert:hover {\n",
              "      background-color: #434B5C;\n",
              "      box-shadow: 0px 1px 3px 1px rgba(0, 0, 0, 0.15);\n",
              "      filter: drop-shadow(0px 1px 2px rgba(0, 0, 0, 0.3));\n",
              "      fill: #FFFFFF;\n",
              "    }\n",
              "  </style>\n",
              "\n",
              "    <script>\n",
              "      const buttonEl =\n",
              "        document.querySelector('#df-919520d4-24af-48b3-9fb2-d8f6d36659d0 button.colab-df-convert');\n",
              "      buttonEl.style.display =\n",
              "        google.colab.kernel.accessAllowed ? 'block' : 'none';\n",
              "\n",
              "      async function convertToInteractive(key) {\n",
              "        const element = document.querySelector('#df-919520d4-24af-48b3-9fb2-d8f6d36659d0');\n",
              "        const dataTable =\n",
              "          await google.colab.kernel.invokeFunction('convertToInteractive',\n",
              "                                                    [key], {});\n",
              "        if (!dataTable) return;\n",
              "\n",
              "        const docLinkHtml = 'Like what you see? Visit the ' +\n",
              "          '<a target=\"_blank\" href=https://colab.research.google.com/notebooks/data_table.ipynb>data table notebook</a>'\n",
              "          + ' to learn more about interactive tables.';\n",
              "        element.innerHTML = '';\n",
              "        dataTable['output_type'] = 'display_data';\n",
              "        await google.colab.output.renderOutput(dataTable, element);\n",
              "        const docLink = document.createElement('div');\n",
              "        docLink.innerHTML = docLinkHtml;\n",
              "        element.appendChild(docLink);\n",
              "      }\n",
              "    </script>\n",
              "  </div>\n",
              "\n",
              "\n",
              "<div id=\"df-22aaec76-bbe7-47b8-900b-9650a62816e3\">\n",
              "  <button class=\"colab-df-quickchart\" onclick=\"quickchart('df-22aaec76-bbe7-47b8-900b-9650a62816e3')\"\n",
              "            title=\"Suggest charts\"\n",
              "            style=\"display:none;\">\n",
              "\n",
              "<svg xmlns=\"http://www.w3.org/2000/svg\" height=\"24px\"viewBox=\"0 0 24 24\"\n",
              "     width=\"24px\">\n",
              "    <g>\n",
              "        <path d=\"M19 3H5c-1.1 0-2 .9-2 2v14c0 1.1.9 2 2 2h14c1.1 0 2-.9 2-2V5c0-1.1-.9-2-2-2zM9 17H7v-7h2v7zm4 0h-2V7h2v10zm4 0h-2v-4h2v4z\"/>\n",
              "    </g>\n",
              "</svg>\n",
              "  </button>\n",
              "\n",
              "<style>\n",
              "  .colab-df-quickchart {\n",
              "      --bg-color: #E8F0FE;\n",
              "      --fill-color: #1967D2;\n",
              "      --hover-bg-color: #E2EBFA;\n",
              "      --hover-fill-color: #174EA6;\n",
              "      --disabled-fill-color: #AAA;\n",
              "      --disabled-bg-color: #DDD;\n",
              "  }\n",
              "\n",
              "  [theme=dark] .colab-df-quickchart {\n",
              "      --bg-color: #3B4455;\n",
              "      --fill-color: #D2E3FC;\n",
              "      --hover-bg-color: #434B5C;\n",
              "      --hover-fill-color: #FFFFFF;\n",
              "      --disabled-bg-color: #3B4455;\n",
              "      --disabled-fill-color: #666;\n",
              "  }\n",
              "\n",
              "  .colab-df-quickchart {\n",
              "    background-color: var(--bg-color);\n",
              "    border: none;\n",
              "    border-radius: 50%;\n",
              "    cursor: pointer;\n",
              "    display: none;\n",
              "    fill: var(--fill-color);\n",
              "    height: 32px;\n",
              "    padding: 0;\n",
              "    width: 32px;\n",
              "  }\n",
              "\n",
              "  .colab-df-quickchart:hover {\n",
              "    background-color: var(--hover-bg-color);\n",
              "    box-shadow: 0 1px 2px rgba(60, 64, 67, 0.3), 0 1px 3px 1px rgba(60, 64, 67, 0.15);\n",
              "    fill: var(--button-hover-fill-color);\n",
              "  }\n",
              "\n",
              "  .colab-df-quickchart-complete:disabled,\n",
              "  .colab-df-quickchart-complete:disabled:hover {\n",
              "    background-color: var(--disabled-bg-color);\n",
              "    fill: var(--disabled-fill-color);\n",
              "    box-shadow: none;\n",
              "  }\n",
              "\n",
              "  .colab-df-spinner {\n",
              "    border: 2px solid var(--fill-color);\n",
              "    border-color: transparent;\n",
              "    border-bottom-color: var(--fill-color);\n",
              "    animation:\n",
              "      spin 1s steps(1) infinite;\n",
              "  }\n",
              "\n",
              "  @keyframes spin {\n",
              "    0% {\n",
              "      border-color: transparent;\n",
              "      border-bottom-color: var(--fill-color);\n",
              "      border-left-color: var(--fill-color);\n",
              "    }\n",
              "    20% {\n",
              "      border-color: transparent;\n",
              "      border-left-color: var(--fill-color);\n",
              "      border-top-color: var(--fill-color);\n",
              "    }\n",
              "    30% {\n",
              "      border-color: transparent;\n",
              "      border-left-color: var(--fill-color);\n",
              "      border-top-color: var(--fill-color);\n",
              "      border-right-color: var(--fill-color);\n",
              "    }\n",
              "    40% {\n",
              "      border-color: transparent;\n",
              "      border-right-color: var(--fill-color);\n",
              "      border-top-color: var(--fill-color);\n",
              "    }\n",
              "    60% {\n",
              "      border-color: transparent;\n",
              "      border-right-color: var(--fill-color);\n",
              "    }\n",
              "    80% {\n",
              "      border-color: transparent;\n",
              "      border-right-color: var(--fill-color);\n",
              "      border-bottom-color: var(--fill-color);\n",
              "    }\n",
              "    90% {\n",
              "      border-color: transparent;\n",
              "      border-bottom-color: var(--fill-color);\n",
              "    }\n",
              "  }\n",
              "</style>\n",
              "\n",
              "  <script>\n",
              "    async function quickchart(key) {\n",
              "      const quickchartButtonEl =\n",
              "        document.querySelector('#' + key + ' button');\n",
              "      quickchartButtonEl.disabled = true;  // To prevent multiple clicks.\n",
              "      quickchartButtonEl.classList.add('colab-df-spinner');\n",
              "      try {\n",
              "        const charts = await google.colab.kernel.invokeFunction(\n",
              "            'suggestCharts', [key], {});\n",
              "      } catch (error) {\n",
              "        console.error('Error during call to suggestCharts:', error);\n",
              "      }\n",
              "      quickchartButtonEl.classList.remove('colab-df-spinner');\n",
              "      quickchartButtonEl.classList.add('colab-df-quickchart-complete');\n",
              "    }\n",
              "    (() => {\n",
              "      let quickchartButtonEl =\n",
              "        document.querySelector('#df-22aaec76-bbe7-47b8-900b-9650a62816e3 button');\n",
              "      quickchartButtonEl.style.display =\n",
              "        google.colab.kernel.accessAllowed ? 'block' : 'none';\n",
              "    })();\n",
              "  </script>\n",
              "</div>\n",
              "\n",
              "    </div>\n",
              "  </div>\n"
            ],
            "application/vnd.google.colaboratory.intrinsic+json": {
              "type": "dataframe",
              "summary": "{\n  \"name\": \"data\",\n  \"rows\": 8,\n  \"fields\": [\n    {\n      \"column\": \"Year\",\n      \"properties\": {\n        \"dtype\": \"number\",\n        \"std\": 3670.4255658356396,\n        \"min\": 7.579739887595646,\n        \"max\": 11914.0,\n        \"num_unique_values\": 8,\n        \"samples\": [\n          2010.384337753903,\n          2015.0,\n          11914.0\n        ],\n        \"semantic_type\": \"\",\n        \"description\": \"\"\n      }\n    },\n    {\n      \"column\": \"Engine HP\",\n      \"properties\": {\n        \"dtype\": \"number\",\n        \"std\": 4091.8968322581513,\n        \"min\": 55.0,\n        \"max\": 11845.0,\n        \"num_unique_values\": 8,\n        \"samples\": [\n          249.38607007176023,\n          227.0,\n          11845.0\n        ],\n        \"semantic_type\": \"\",\n        \"description\": \"\"\n      }\n    },\n    {\n      \"column\": \"Engine Cylinders\",\n      \"properties\": {\n        \"dtype\": \"number\",\n        \"std\": 4199.640689133794,\n        \"min\": 0.0,\n        \"max\": 11884.0,\n        \"num_unique_values\": 7,\n        \"samples\": [\n          11884.0,\n          5.628828677213059,\n          6.0\n        ],\n        \"semantic_type\": \"\",\n        \"description\": \"\"\n      }\n    },\n    {\n      \"column\": \"Number of Doors\",\n      \"properties\": {\n        \"dtype\": \"number\",\n        \"std\": 4209.087754200279,\n        \"min\": 0.8813153865835297,\n        \"max\": 11908.0,\n        \"num_unique_values\": 5,\n        \"samples\": [\n          3.4360933825999327,\n          4.0,\n          0.8813153865835297\n        ],\n        \"semantic_type\": \"\",\n        \"description\": \"\"\n      }\n    },\n    {\n      \"column\": \"highway MPG\",\n      \"properties\": {\n        \"dtype\": \"number\",\n        \"std\": 4189.644501132749,\n        \"min\": 8.863000766979342,\n        \"max\": 11914.0,\n        \"num_unique_values\": 8,\n        \"samples\": [\n          26.637485311398354,\n          26.0,\n          11914.0\n        ],\n        \"semantic_type\": \"\",\n        \"description\": \"\"\n      }\n    },\n    {\n      \"column\": \"city mpg\",\n      \"properties\": {\n        \"dtype\": \"number\",\n        \"std\": 4200.901924587632,\n        \"min\": 7.0,\n        \"max\": 11914.0,\n        \"num_unique_values\": 8,\n        \"samples\": [\n          19.73325499412456,\n          18.0,\n          11914.0\n        ],\n        \"semantic_type\": \"\",\n        \"description\": \"\"\n      }\n    },\n    {\n      \"column\": \"Popularity\",\n      \"properties\": {\n        \"dtype\": \"number\",\n        \"std\": 3956.693898024036,\n        \"min\": 2.0,\n        \"max\": 11914.0,\n        \"num_unique_values\": 8,\n        \"samples\": [\n          1554.9111969111968,\n          1385.0,\n          11914.0\n        ],\n        \"semantic_type\": \"\",\n        \"description\": \"\"\n      }\n    },\n    {\n      \"column\": \"MSRP\",\n      \"properties\": {\n        \"dtype\": \"number\",\n        \"std\": 720143.0484808605,\n        \"min\": 2000.0,\n        \"max\": 2065902.0,\n        \"num_unique_values\": 8,\n        \"samples\": [\n          40594.737032063116,\n          29995.0,\n          11914.0\n        ],\n        \"semantic_type\": \"\",\n        \"description\": \"\"\n      }\n    }\n  ]\n}"
            }
          },
          "metadata": {},
          "execution_count": 7
        }
      ]
    },
    {
      "cell_type": "markdown",
      "source": [
        "### Target Variable:\n",
        "How is the target variable distributed?\n",
        "\n",
        "If the target variable is numerical (e.g., house prices, car prices or insurance charges), plot a histogram to visualize its distribution."
      ],
      "metadata": {
        "id": "SklXbTLbibwT"
      }
    },
    {
      "cell_type": "code",
      "source": [
        "# How is price distributed?\n",
        "sns.histplot(data['MSRP'])"
      ],
      "metadata": {
        "id": "16He48oVih6F",
        "colab": {
          "base_uri": "https://localhost:8080/",
          "height": 486
        },
        "outputId": "1f0e816b-9e62-40d6-8b65-3b9f0d35716e"
      },
      "execution_count": null,
      "outputs": [
        {
          "output_type": "execute_result",
          "data": {
            "text/plain": [
              "<Axes: xlabel='MSRP', ylabel='Count'>"
            ]
          },
          "metadata": {},
          "execution_count": 8
        },
        {
          "output_type": "display_data",
          "data": {
            "text/plain": [
              "<Figure size 640x480 with 1 Axes>"
            ],
            "image/png": "[encoded data removed]"
          },
          "metadata": {}
        }
      ]
    },
    {
      "cell_type": "markdown",
      "source": [
        "### Relationships Between Features:\n",
        "- Are there correlations between the numerical variables?\n",
        "\n",
        "- Are there features that are highly correlated (positively or negatively)?\n",
        "- How does each feature correlate with the target variable?"
      ],
      "metadata": {
        "id": "dOPR6WlXimq8"
      }
    },
    {
      "cell_type": "code",
      "source": [
        "numerical_data = data.select_dtypes(include=[np.number])\n",
        "correlation_matrix = numerical_data.corr()\n",
        "plt.figure(figsize=(10, 8))\n",
        "sns.heatmap(correlation_matrix, annot=True, cmap='coolwarm', fmt=\".2f\")\n",
        "plt.title('Correlation Matrix')\n",
        "plt.show()\n",
        "plt"
      ],
      "metadata": {
        "id": "kaaCu3AbitwE",
        "colab": {
          "base_uri": "https://localhost:8080/",
          "height": 840
        },
        "outputId": "8b59a313-7bfa-4226-eee3-03b04cead75b"
      },
      "execution_count": null,
      "outputs": [
        {
          "output_type": "display_data",
          "data": {
            "text/plain": [
              "<Figure size 1000x800 with 2 Axes>"
            ],
            "image/png": "[encoded data removed]"
          },
          "metadata": {}
        },
        {
          "output_type": "execute_result",
          "data": {
            "text/plain": [
              "<module 'matplotlib.pyplot' from '/usr/local/lib/python3.10/dist-packages/matplotlib/pyplot.py'>"
            ]
          },
          "metadata": {},
          "execution_count": 9
        }
      ]
    },
    {
      "cell_type": "markdown",
      "source": [
        "### Are there any potential outliers in the dataset?\n",
        "- Use boxplots or scatter plots to identify potential outliers.\n",
        "- Should outliers be removed or dealt with in some other way?"
      ],
      "metadata": {
        "id": "0HFKDIyei25-"
      }
    },
    {
      "cell_type": "code",
      "source": [
        "# Box Plot: Distribution of 'Price' by 'Category'\n",
        "sns.boxplot(x=data[\"Year\"],y=data[\"MSRP\"])\n",
        "\n",
        "\n",
        "plt.title('Box Plot of MSRP by Year')\n",
        "plt.xticks(rotation=45)\n",
        "plt.show()"
      ],
      "metadata": {
        "id": "JCEbryFxjCro",
        "colab": {
          "base_uri": "https://localhost:8080/",
          "height": 548
        },
        "outputId": "c3e33314-1920-4108-fa0c-e8bd6e6064c9"
      },
      "execution_count": null,
      "outputs": [
        {
          "output_type": "stream",
          "name": "stderr",
          "text": [
            "/usr/local/lib/python3.10/dist-packages/seaborn/categorical.py:640: FutureWarning: SeriesGroupBy.grouper is deprecated and will be removed in a future version of pandas.\n",
            "  positions = grouped.grouper.result_index.to_numpy(dtype=float)\n"
          ]
        },
        {
          "output_type": "display_data",
          "data": {
            "text/plain": [
              "<Figure size 640x480 with 1 Axes>"
            ],
            "image/png": "[encoded data removed]"
          },
          "metadata": {}
        }
      ]
    },
    {
      "cell_type": "markdown",
      "source": [
        "### Data Cleaning:\n",
        "- Are there any issues in the data that need to be cleaned?\n",
        ">Yes, some of the rows have missing data.\n",
        "- Are there duplicated rows that should be removed?\n",
        ">Yes, 715 duplicate rows exist."
      ],
      "metadata": {
        "id": "KPvfckMV7_Wz"
      }
    },
    {
      "cell_type": "code",
      "source": [
        "# remove outliers in data\n",
        "df_data = data.copy()\n",
        "# Create the dataframe\n",
        "df_data.head()\n",
        "print(\"Old Shape: \", df_data.shape)\n",
        "\n",
        "# IQR\n",
        "# Calculate the upper and lower limits\n",
        "Q1 = df_data['MSRP'].quantile(0.25)\n",
        "Q3 = df_data['MSRP'].quantile(0.75)\n",
        "IQR = Q3 - Q1\n",
        "lower = Q1 - 1.5*IQR\n",
        "upper = Q3 + 1.5*IQR\n",
        "\n",
        "# Create arrays of Boolean values indicating the outlier rows\n",
        "upper_array = np.where(df_data['MSRP'] >= upper)[0]\n",
        "lower_array = np.where(df_data['MSRP'] <= lower)[0]\n",
        "\n",
        "# Removing the outliers\n",
        "df_data.drop(index=upper_array, inplace=True)\n",
        "df_data.drop(index=lower_array, inplace=True)\n",
        "\n",
        "# Print the new shape of the DataFrame\n",
        "print(\"New Shape: \", df_data.shape)"
      ],
      "metadata": {
        "colab": {
          "base_uri": "https://localhost:8080/"
        },
        "id": "zt1NdpUD23JD",
        "outputId": "35534ec4-6c8d-46d4-d76f-1908a00b403f"
      },
      "execution_count": null,
      "outputs": [
        {
          "output_type": "stream",
          "name": "stdout",
          "text": [
            "Old Shape:  (11914, 16)\n",
            "New Shape:  (10918, 16)\n"
          ]
        }
      ]
    },
    {
      "cell_type": "code",
      "source": [
        "print(\"Total duplicate values are '\", data.duplicated().sum(), \"'.\")\n",
        "data.drop_duplicates(inplace=True, keep=\"first\")"
      ],
      "metadata": {
        "id": "LNF-9gTWjGnk",
        "colab": {
          "base_uri": "https://localhost:8080/"
        },
        "outputId": "3882f3e5-0898-451a-c9db-a1c26ffb20d9"
      },
      "execution_count": null,
      "outputs": [
        {
          "output_type": "stream",
          "name": "stdout",
          "text": [
            "Total duplicate values are ' 0 '.\n"
          ]
        }
      ]
    },
    {
      "cell_type": "code",
      "source": [
        "# drop rows with missing market category\n",
        "data.dropna(subset=['Market Category'], inplace=True)\n",
        "data.dropna(subset=['Number of Doors'], inplace=True)\n",
        "data.dropna(subset=['Engine Fuel Type'], inplace=True)\n",
        "data.dropna(subset=['Engine HP'], inplace=True)\n",
        "data.dropna(subset=['Engine Cylinders'], inplace=True)\n",
        "data.dropna(subset=['Number of Doors'], inplace=True)\n",
        "data.dropna(subset=['Market Category'], inplace=True)\n",
        "data.shape"
      ],
      "metadata": {
        "id": "iGCAbT0d7EeA",
        "colab": {
          "base_uri": "https://localhost:8080/"
        },
        "outputId": "cc2ced82-663c-4607-adc0-b782ddf9f1c9"
      },
      "execution_count": null,
      "outputs": [
        {
          "output_type": "execute_result",
          "data": {
            "text/plain": [
              "(7735, 16)"
            ]
          },
          "metadata": {},
          "execution_count": 24
        }
      ]
    },
    {
      "cell_type": "markdown",
      "source": [
        "### Split into features and target"
      ],
      "metadata": {
        "id": "2CloKUstjMBM"
      }
    },
    {
      "cell_type": "code",
      "source": [
        "data.dtypes\n",
        "X = data.drop('MSRP', axis=1)\n",
        "y = data['MSRP']"
      ],
      "metadata": {
        "id": "PR6Mc-SQfoW8"
      },
      "execution_count": null,
      "outputs": []
    },
    {
      "cell_type": "markdown",
      "source": [
        "### Feature Engineering"
      ],
      "metadata": {
        "id": "ihZKq1FVjJ6s"
      }
    },
    {
      "cell_type": "code",
      "source": [
        "import pandas as pd\n",
        "from sklearn.model_selection import train_test_split\n",
        "from sklearn.preprocessing import StandardScaler, OneHotEncoder\n",
        "from sklearn.compose import ColumnTransformer\n",
        "from sklearn.pipeline import Pipeline\n",
        "from sklearn.linear_model import LinearRegression, Ridge, Lasso, SGDRegressor\n",
        "from sklearn.metrics import mean_squared_error, r2_score\n",
        "from sklearn.preprocessing import PolynomialFeatures\n",
        "from sklearn.impute import SimpleImputer"
      ],
      "metadata": {
        "id": "OBS0-yz2yE6A"
      },
      "execution_count": null,
      "outputs": []
    },
    {
      "cell_type": "code",
      "source": [
        "# Identify numerical and categorical columns\n",
        "numerical_features = ['Year','Engine HP','Engine Cylinders','highway MPG','city mpg','Popularity','Number of Doors']\n",
        "categorical_features = ['Make','Model','Engine Fuel Type','Driven_Wheels','Market Category','Vehicle Size','Vehicle Style','Transmission Type']\n"
      ],
      "metadata": {
        "id": "f7GCQwMHfehE"
      },
      "execution_count": null,
      "outputs": []
    },
    {
      "cell_type": "markdown",
      "source": [
        "### Preprocessing Pipelines"
      ],
      "metadata": {
        "id": "RZUbvv2NfWQL"
      }
    },
    {
      "cell_type": "code",
      "source": [
        "# Preprocessing pipeline for numerical features\n",
        "numerical_transformer = Pipeline(steps=[\n",
        "    ('imputer', SimpleImputer(strategy='mean')),  # Handle missing values\n",
        "    ('scaler', StandardScaler())  # Standardize features\n",
        "])\n",
        "\n",
        "# Preprocessing pipeline for categorical features\n",
        "categorical_transformer = Pipeline(steps=[\n",
        "    ('imputer', SimpleImputer(strategy='most_frequent')),  # Handle missing values\n",
        "    ('onehot', OneHotEncoder(handle_unknown='ignore'))  # One-hot encoding\n",
        "])\n",
        "\n",
        "# Combine preprocessing for both numerical and categorical features\n",
        "preprocessor = ColumnTransformer(transformers=[\n",
        "    ('num', numerical_transformer, numerical_features),\n",
        "    ('cat', categorical_transformer, categorical_features)\n",
        "])\n",
        "\n",
        "\n"
      ],
      "metadata": {
        "id": "vj6OLpyNfSXb"
      },
      "execution_count": null,
      "outputs": []
    },
    {
      "cell_type": "markdown",
      "source": [
        "### Create a function to build and evaluate models using pipelines"
      ],
      "metadata": {
        "id": "pA3Q4qive-fr"
      }
    },
    {
      "cell_type": "code",
      "source": [
        "\n",
        "def evaluate_model(model, X_train, X_test, y_train, y_test):\n",
        "    # Fit the model\n",
        "    model.fit(X_train, y_train)\n",
        "\n",
        "    # Predict on test set\n",
        "    y_pred = model.predict(X_test)\n",
        "\n",
        "    # Evaluation metrics\n",
        "    mse = mean_squared_error(y_test, y_pred)\n",
        "    r2 = r2_score(y_test, y_pred)\n",
        "\n",
        "    print(f\"Model: {model.named_steps['model'].__class__.__name__}\")\n",
        "    print(f\"Mean Squared Error: {mse:.4f}\")\n",
        "    print(f\"R² Score: {r2:.4f}\")\n",
        "    print('-' * 50)"
      ],
      "metadata": {
        "id": "3O8VcjWpe4Xs"
      },
      "execution_count": null,
      "outputs": []
    },
    {
      "cell_type": "code",
      "source": [
        "# Split the data into training and testing sets\n",
        "X_train, X_test, y_train, y_test = train_test_split(X, y, test_size=0.2, random_state=42)"
      ],
      "metadata": {
        "id": "PyxQRRWVedDL"
      },
      "execution_count": null,
      "outputs": []
    },
    {
      "cell_type": "markdown",
      "source": [
        "### Model pipelines"
      ],
      "metadata": {
        "id": "Z8QTs9rbfCkc"
      }
    },
    {
      "cell_type": "code",
      "source": [
        "# Linear Regression Pipeline\n",
        "linear_pipeline = Pipeline(steps=[\n",
        "    ('preprocessor', preprocessor),\n",
        "    ('model', LinearRegression())\n",
        "])\n",
        "\n",
        "# Ridge Regression Pipeline\n",
        "ridge_pipeline = Pipeline(steps=[\n",
        "    ('preprocessor', preprocessor),\n",
        "    ('model', Ridge(alpha=1.0))\n",
        "])\n",
        "\n",
        "# Lasso Regression Pipeline\n",
        "lasso_pipeline = Pipeline(steps=[\n",
        "    ('preprocessor', preprocessor),\n",
        "    ('model', Lasso(max_iter=5000, alpha=0.1))\n",
        "])\n",
        "\n",
        "# Stochastic Gradient Descent (SGD) Pipeline\n",
        "sgd_pipeline = Pipeline(steps=[\n",
        "    ('preprocessor', preprocessor),\n",
        "    ('model', SGDRegressor(max_iter=1000, tol=1e-3))\n",
        "])\n",
        "# Polynomial Regression Pipeline (degree=2)\n",
        "polynomial_pipeline = Pipeline(steps=[\n",
        "    ('preprocessor', preprocessor),\n",
        "    ('poly', PolynomialFeatures(degree=2)),\n",
        "    ('model', LinearRegression())\n",
        "])\n",
        "\n"
      ],
      "metadata": {
        "id": "6l9XSubteOci"
      },
      "execution_count": null,
      "outputs": []
    },
    {
      "cell_type": "markdown",
      "source": [
        "### Evaluate all models"
      ],
      "metadata": {
        "id": "Mft9GjKAfGbk"
      }
    },
    {
      "cell_type": "code",
      "source": [
        "\n",
        "for model in [linear_pipeline, ridge_pipeline, lasso_pipeline, sgd_pipeline, polynomial_pipeline]:\n",
        "    evaluate_model(model, X_train, X_test, y_train, y_test)"
      ],
      "metadata": {
        "id": "M-MLogvLeQK0",
        "colab": {
          "base_uri": "https://localhost:8080/"
        },
        "outputId": "02eeb8b0-e8c8-4aaf-f021-7a14b11caae5"
      },
      "execution_count": null,
      "outputs": [
        {
          "output_type": "stream",
          "name": "stdout",
          "text": [
            "Model: LinearRegression\n",
            "Mean Squared Error: 1000104322.3801\n",
            "R² Score: 0.8210\n",
            "--------------------------------------------------\n",
            "Model: Ridge\n",
            "Mean Squared Error: 1095309239.8828\n",
            "R² Score: 0.8040\n",
            "--------------------------------------------------\n"
          ]
        },
        {
          "output_type": "stream",
          "name": "stderr",
          "text": [
            "/usr/local/lib/python3.10/dist-packages/sklearn/linear_model/_coordinate_descent.py:658: ConvergenceWarning: Objective did not converge. You might want to increase the number of iterations. Duality gap: 28503602108.414673, tolerance: 3093585417.962334\n",
            "  model = cd_fast.sparse_enet_coordinate_descent(\n"
          ]
        },
        {
          "output_type": "stream",
          "name": "stdout",
          "text": [
            "Model: Lasso\n",
            "Mean Squared Error: 1130484577.5239\n",
            "R² Score: 0.7977\n",
            "--------------------------------------------------\n",
            "Model: SGDRegressor\n",
            "Mean Squared Error: 1438098502.9687\n",
            "R² Score: 0.7426\n",
            "--------------------------------------------------\n",
            "Model: LinearRegression\n",
            "Mean Squared Error: 921516417.9327\n",
            "R² Score: 0.8351\n",
            "--------------------------------------------------\n"
          ]
        }
      ]
    },
    {
      "cell_type": "markdown",
      "source": [
        "### Interpretation:\n",
        "Discuss the effectiveness of each model. Which model performed the best and why?"
      ],
      "metadata": {
        "id": "MnXAHZcRg2XU"
      }
    },
    {
      "cell_type": "markdown",
      "source": [
        "### Interpretation Conclusion:\n",
        "Each model seems to vary in mean squared error and in R^2 value. The SGDRegressor model seems to have the highest mean squared error while having the lowest R^2 value. This model performed the worst in terms of mean squared error while performing the best in terms if R^2, having the lowest R^2 value (percentage of error not explained by model). The LinearRegression model seems to have performed the best in terms of mean squared error, the lowest of the five models while having the highest R^2 value. In terms of R^2 value, this model performed the worst by having the highest R^2 value."
      ],
      "metadata": {
        "id": "5M4O4UD-1FGO"
      }
    },
    {
      "cell_type": "code",
      "source": [],
      "metadata": {
        "id": "rrj66iS1g1Rt"
      },
      "execution_count": null,
      "outputs": []
    }
  ]
}